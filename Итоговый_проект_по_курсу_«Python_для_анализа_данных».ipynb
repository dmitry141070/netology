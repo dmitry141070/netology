{
  "nbformat": 4,
  "nbformat_minor": 0,
  "metadata": {
    "colab": {
      "provenance": []
    },
    "kernelspec": {
      "name": "python3",
      "display_name": "Python 3"
    },
    "language_info": {
      "name": "python"
    }
  },
  "cells": [
    {
      "cell_type": "code",
      "execution_count": null,
      "metadata": {
        "id": "tH_z5W5Bbky2"
      },
      "outputs": [],
      "source": [
        "import pandas as pd\n",
        "import numpy as np\n"
      ]
    },
    {
      "cell_type": "code",
      "source": [
        "# 1 загрузим файл HR.csv в pandas dataframe\n",
        "df = pd.read_csv('https://raw.githubusercontent.com/dmitry141070/netology/main/HR.csv')"
      ],
      "metadata": {
        "id": "TCGqSw4Gniqh"
      },
      "execution_count": null,
      "outputs": []
    },
    {
      "cell_type": "code",
      "source": [
        "# 2 рассчитаем основные статистики для переменных (среднее,медиана,мода,мин/макс,сред.отклонение).\n",
        "columns_names = list(df.columns)\n",
        "print(columns_names)\n",
        "for name in columns_names:\n",
        "  print('Базовые статистики по столбцу', name, ':');\n",
        "  print('Среднее значение:', df[name].mean());\n",
        "  print('Значение моды: ', df[name].mode()[0]);\n",
        "  print('Значение медианы: ',np.median(df[name]));\n",
        "  print('Значение СКО:', df[name].std());\n",
        "  print('значение квантилей', df[name].quantile([0.25, 0.33, 0.75]))"
      ],
      "metadata": {
        "id": "2cxkHAPU5K5w"
      },
      "execution_count": null,
      "outputs": []
    },
    {
      "cell_type": "code",
      "source": [
        "# 3 рассчитаем и визуализируем корреляционную матрицу для количественных переменных.\n",
        "import seaborn as sns\n",
        "corr_matrix = df.corr()\n",
        "sns.heatmap(corr_matrix, cmap='coolwarm', annot=True)"
      ],
      "metadata": {
        "id": "PROP8KBAkJAK"
      },
      "execution_count": null,
      "outputs": []
    },
    {
      "cell_type": "markdown",
      "source": [
        "Вывод: две самые скоррелированные переменные  - satisfaction_level и lef, а две наименее\n",
        "скоррелированные переменные -  last_evaluation и Work_accident"
      ],
      "metadata": {
        "id": "1zL1RfspkOZo"
      }
    },
    {
      "cell_type": "code",
      "source": [
        "# 4 рассчитаем сколько сотрудников работает в каждом департаменте\n",
        "employees_by_department = df.groupby(['department']).count()\n",
        "print(employees_by_department)"
      ],
      "metadata": {
        "id": "7EO8YVqZcEHM"
      },
      "execution_count": null,
      "outputs": []
    },
    {
      "cell_type": "code",
      "source": [
        "# 5 показажем распределение сотрудников по зарплатам.\n",
        "employees_by_salary = df.groupby(['salary']).count()\n",
        "print(employees_by_salary)"
      ],
      "metadata": {
        "id": "RSkOzOziwPE5"
      },
      "execution_count": null,
      "outputs": []
    },
    {
      "cell_type": "code",
      "source": [
        "# 6 покажем распределение сотрудников по зарплатам в каждом департаменте по отдельности\n",
        "employees_by_salary_by_department = df.groupby(['department', 'salary']).count()\n",
        "print(employees_by_salary_by_department)"
      ],
      "metadata": {
        "id": "wscGKwsMlqFo"
      },
      "execution_count": null,
      "outputs": []
    },
    {
      "cell_type": "code",
      "source": [
        "# 7 Рассчитать следующие показатели среди уволившихся и неуволившихся сотрудников (по отдельности):\n",
        "# Доля сотрудников с повышением за последние 5 лет\n",
        "a = print(df.groupby('left')['promotion_last_5years'].mean())\n",
        "print(a)"
      ],
      "metadata": {
        "colab": {
          "base_uri": "https://localhost:8080/"
        },
        "id": "kjc4i-2Ou569",
        "outputId": "ec6ea391-86bc-4273-f48f-5f1d1b33a243"
      },
      "execution_count": null,
      "outputs": [
        {
          "output_type": "stream",
          "name": "stdout",
          "text": [
            "left\n",
            "0    0.026251\n",
            "1    0.005321\n",
            "Name: promotion_last_5years, dtype: float64\n",
            "None\n"
          ]
        }
      ]
    },
    {
      "cell_type": "code",
      "source": [
        "# средняя степень удовлетворенности\n",
        "print(df.groupby('left')['satisfaction_level'].mean())"
      ],
      "metadata": {
        "colab": {
          "base_uri": "https://localhost:8080/"
        },
        "id": "5seMDDCszGld",
        "outputId": "2776bb13-0e87-42dc-98d2-cebece9e252c"
      },
      "execution_count": null,
      "outputs": [
        {
          "output_type": "stream",
          "name": "stdout",
          "text": [
            "left\n",
            "0    0.666810\n",
            "1    0.440098\n",
            "Name: satisfaction_level, dtype: float64\n"
          ]
        }
      ]
    },
    {
      "cell_type": "code",
      "source": [
        "# среднее количество проектов\n",
        "print(df.groupby('left')['number_project'].mean())"
      ],
      "metadata": {
        "id": "hK8sgNYczMaB",
        "outputId": "10f0aec5-6648-4353-94db-fd6f6f979ae5",
        "colab": {
          "base_uri": "https://localhost:8080/"
        }
      },
      "execution_count": null,
      "outputs": [
        {
          "output_type": "stream",
          "name": "stdout",
          "text": [
            "left\n",
            "0    3.786664\n",
            "1    3.855503\n",
            "Name: number_project, dtype: float64\n"
          ]
        }
      ]
    }
  ]
}